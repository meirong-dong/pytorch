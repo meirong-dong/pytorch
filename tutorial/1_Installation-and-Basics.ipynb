{
 "cells": [
  {
   "cell_type": "markdown",
   "metadata": {},
   "source": [
    "<h2> Pytorch Tutorial </h2>\n",
    "<p> Tutorial: <a> https://pytorch.org/tutorials/</a> </p>\n",
    "<p> Documentation: <a>https://pytorch.org/docs/stable/torch.html</a></p>"
   ]
  },
  {
   "cell_type": "markdown",
   "metadata": {},
   "source": [
    "<h3> Installation and Import Library </h3>"
   ]
  },
  {
   "cell_type": "markdown",
   "metadata": {},
   "source": [
    "<p> Run this line to install pytorch </p>"
   ]
  },
  {
   "cell_type": "code",
   "execution_count": 2,
   "metadata": {},
   "outputs": [
    {
     "name": "stdout",
     "output_type": "stream",
     "text": [
      "Requirement already satisfied: torch in c:\\users\\meiro\\anaconda3\\envs\\capstone\\lib\\site-packages (1.6.0+cu101)\n",
      "Requirement already satisfied: numpy in c:\\users\\meiro\\anaconda3\\envs\\capstone\\lib\\site-packages (from torch) (1.18.5)\n",
      "Requirement already satisfied: future in c:\\users\\meiro\\anaconda3\\envs\\capstone\\lib\\site-packages (from torch) (0.18.2)\n"
     ]
    }
   ],
   "source": [
    "!pip3 install torch\n",
    "!pip3 install numpy\n",
    "!pip3 install matplotlib"
   ]
  },
  {
   "cell_type": "code",
   "execution_count": 39,
   "metadata": {},
   "outputs": [],
   "source": [
    "#Import Pytorch Library\n",
    "import torch \n",
    "import numpy as np\n",
    "import matplotlib.pyplot as plt"
   ]
  },
  {
   "cell_type": "markdown",
   "metadata": {},
   "source": [
    "<h4> Tensor </h4>"
   ]
  },
  {
   "cell_type": "code",
   "execution_count": 19,
   "metadata": {},
   "outputs": [
    {
     "name": "stdout",
     "output_type": "stream",
     "text": [
      "tensor([2, 3, 4]) \n",
      "\n",
      "tensor([[1],\n",
      "        [2],\n",
      "        [3],\n",
      "        [4]]) \n",
      "\n",
      "tensor([[1, 2],\n",
      "        [3, 4]]) \n",
      "\n",
      "torch.Size([5]) \n",
      "\n"
     ]
    }
   ],
   "source": [
    "#Dimensional Tensors\n",
    "v = torch.tensor([1,2,3,4])\n",
    "print(v[1:],\"\\n\")\n",
    "\n",
    "#reshape the tensor\n",
    "print(v.view(4,1),\"\\n\")\n",
    "\n",
    "#reshape the tensor without specifying the number of columns explicitly\n",
    "print(v.view(2,-1),\"\\n\")\n",
    "\n",
    "#check tensor size\n",
    "f = torch.FloatTensor([1,2,3,4,5])\n",
    "print(f.size(),\"\\n\")"
   ]
  },
  {
   "cell_type": "code",
   "execution_count": 25,
   "metadata": {},
   "outputs": [
    {
     "name": "stdout",
     "output_type": "stream",
     "text": [
      "tensor([1, 2, 3, 4, 5, 6], dtype=torch.int32)\n",
      "torch.IntTensor\n"
     ]
    }
   ],
   "source": [
    "#convert numpy array to tensor\n",
    "sample = np.array([1, 2, 3, 4, 5, 6])\n",
    "t_sample = torch.from_numpy(sample)\n",
    "print(t_sample)\n",
    "print(t_sample.type())"
   ]
  },
  {
   "cell_type": "code",
   "execution_count": 28,
   "metadata": {},
   "outputs": [
    {
     "name": "stdout",
     "output_type": "stream",
     "text": [
      "[1 2 3 4 5 6]\n"
     ]
    }
   ],
   "source": [
    "#convert tensor back to numpy array\n",
    "n_sample = t_sample.numpy()\n",
    "print(n_sample)"
   ]
  },
  {
   "cell_type": "markdown",
   "metadata": {},
   "source": [
    "<h4> Vector Operations </h4>"
   ]
  },
  {
   "cell_type": "code",
   "execution_count": 29,
   "metadata": {},
   "outputs": [
    {
     "name": "stdout",
     "output_type": "stream",
     "text": [
      "tensor(32)\n"
     ]
    }
   ],
   "source": [
    "#dot product \n",
    "t_one = torch.tensor([1,2,3])\n",
    "t_two = torch.tensor([4,5,6])\n",
    "dot_product = torch.dot(t_one, t_two)"
   ]
  },
  {
   "cell_type": "code",
   "execution_count": 38,
   "metadata": {},
   "outputs": [
    {
     "name": "stdout",
     "output_type": "stream",
     "text": [
      "tensor([ 1.0000,  5.3333,  9.6667, 14.0000, 18.3333, 22.6667, 27.0000, 31.3333,\n",
      "        35.6667, 40.0000])\n",
      "tensor([2.7183e+00, 2.0713e+02, 1.5783e+04, 1.2026e+06, 9.1636e+07, 6.9825e+09,\n",
      "        5.3205e+11, 4.0541e+13, 3.0891e+15, 2.3539e+17])\n"
     ]
    }
   ],
   "source": [
    "#Returns x equally spaced values from start value to end value\n",
    "x = torch.linspace(1,40,10)\n",
    "print(x)\n",
    "\n",
    "#Returns a new tensor with the exponential of the elements of the input tensor\n",
    "y = torch.exp(x)\n",
    "print(y)"
   ]
  },
  {
   "cell_type": "code",
   "execution_count": 43,
   "metadata": {},
   "outputs": [
    {
     "data": {
      "text/plain": [
       "[<matplotlib.lines.Line2D at 0x1735eddfc88>,\n",
       " <matplotlib.lines.Line2D at 0x1735eddfcf8>]"
      ]
     },
     "execution_count": 43,
     "metadata": {},
     "output_type": "execute_result"
    },
    {
     "data": {
      "image/png": "[encoded data removed]",
      "text/plain": [
       "<Figure size 432x288 with 1 Axes>"
      ]
     },
     "metadata": {
      "needs_background": "light"
     },
     "output_type": "display_data"
    }
   ],
   "source": [
    "#convert tensor to numpy and plot a graph\n",
    "#note: matplot works with numpy and not tensor\n",
    "plt.plot(x.numpy(), y.numpy(), 10)"
   ]
  },
  {
   "cell_type": "markdown",
   "metadata": {},
   "source": [
    "<h3> Dimensional Tensors </h3>"
   ]
  },
  {
   "cell_type": "code",
   "execution_count": 54,
   "metadata": {},
   "outputs": [
    {
     "name": "stdout",
     "output_type": "stream",
     "text": [
      "tensor([0, 1, 2, 3, 4, 5, 6, 7, 8])\n"
     ]
    }
   ],
   "source": [
    "#tensors can be expanded to 3 dimensions, 4 dimensions...\n",
    "\n",
    "#initialize a one-dimensional array (start value, end value, step)\n",
    "one_d = torch.arange(0,9,1)\n",
    "print(one_d)"
   ]
  },
  {
   "cell_type": "code",
   "execution_count": 62,
   "metadata": {},
   "outputs": [
    {
     "name": "stdout",
     "output_type": "stream",
     "text": [
      "tensor([[0, 1, 2],\n",
      "        [3, 4, 5],\n",
      "        [6, 7, 8]])\n",
      "2\n",
      "tensor(1) tensor(4) tensor(7)\n"
     ]
    }
   ],
   "source": [
    "#reshape to two-dimensional array\n",
    "'''[0,1,2]\n",
    "   [3,4,5]\n",
    "   [6,7,8]\n",
    "'''\n",
    "two_d = one_d.view(3,3)\n",
    "print(two_d)\n",
    "\n",
    "#check dimension\n",
    "print(two_d.dim())\n",
    "\n",
    "#access the values at index x,y\n",
    "print(two_d[0,1], two_d[1,1], two_d[2,1])"
   ]
  },
  {
   "cell_type": "code",
   "execution_count": 70,
   "metadata": {},
   "outputs": [
    {
     "name": "stdout",
     "output_type": "stream",
     "text": [
      "tensor([[[ 0,  1,  2],\n",
      "         [ 3,  4,  5]],\n",
      "\n",
      "        [[ 6,  7,  8],\n",
      "         [ 9, 10, 11]],\n",
      "\n",
      "        [[12, 13, 14],\n",
      "         [15, 16, 17]]])\n"
     ]
    }
   ],
   "source": [
    "#reshape to 3-dimensional arrays\n",
    "#image it as 3 sheets and each sheet has 2 rows and 3 columns\n",
    "three_d = torch.arange(18).view(3,2,3)\n",
    "print(three_d)"
   ]
  },
  {
   "cell_type": "markdown",
   "metadata": {},
   "source": [
    "<h4> Slicing 3D Tensors </h4>"
   ]
  },
  {
   "cell_type": "code",
   "execution_count": 75,
   "metadata": {},
   "outputs": [
    {
     "name": "stdout",
     "output_type": "stream",
     "text": [
      "tensor(10)\n",
      "tensor([[ 6,  7,  8],\n",
      "        [ 9, 10, 11]])\n",
      "tensor([10, 11])\n"
     ]
    }
   ],
   "source": [
    "#print the number at sheet2, row2, column2\n",
    "print(three_d[1, 1, 1])\n",
    "\n",
    "#print all the numbers from sheet 2\n",
    "print(three_d[1, :, :])\n",
    "\n",
    "#print all the numbers from sheet2, row1, column2 and column3\n",
    "print(three_d[1, 1, 1:])"
   ]
  },
  {
   "cell_type": "markdown",
   "metadata": {},
   "source": [
    "<h4> Matrix Multiplication </h4>"
   ]
  },
  {
   "cell_type": "code",
   "execution_count": 77,
   "metadata": {},
   "outputs": [
    {
     "name": "stdout",
     "output_type": "stream",
     "text": [
      "tensor([[0, 3, 5],\n",
      "        [5, 5, 2]])\n",
      "tensor([[ 3,  4],\n",
      "        [ 3, -2],\n",
      "        [ 4, -2]])\n",
      "tensor([[ 29, -16],\n",
      "        [ 38,   6]])\n"
     ]
    }
   ],
   "source": [
    "mat_a = torch.tensor([0,3,5,5,5,2]).view(2,3)\n",
    "print(mat_a)\n",
    "\n",
    "mat_b = torch.tensor([3,4,3,-2,4,-2]).view(3,2)\n",
    "print(mat_b)\n",
    "\n",
    "#multiply the matrices \n",
    "product = torch.matmul(mat_a, mat_b)\n",
    "print(product)"
   ]
  },
  {
   "cell_type": "code",
   "execution_count": 80,
   "metadata": {},
   "outputs": [
    {
     "name": "stdout",
     "output_type": "stream",
     "text": [
      "tensor([[ 29, -16],\n",
      "        [ 38,   6]])\n"
     ]
    }
   ],
   "source": [
    "print(mat_a @ mat_b)"
   ]
  },
  {
   "cell_type": "markdown",
   "metadata": {},
   "source": [
    "<h4> Derivatives </h4>"
   ]
  },
  {
   "cell_type": "code",
   "execution_count": 84,
   "metadata": {},
   "outputs": [
    {
     "data": {
      "text/plain": [
       "tensor(318.)"
      ]
     },
     "execution_count": 84,
     "metadata": {},
     "output_type": "execute_result"
    }
   ],
   "source": [
    "x = torch.tensor(2.0, requires_grad=True)\n",
    "y = 9*x**4 + 2*x**3 + 6*x + 1 \n",
    "y.backward()\n",
    "x.grad"
   ]
  },
  {
   "cell_type": "code",
   "execution_count": 85,
   "metadata": {},
   "outputs": [
    {
     "name": "stdout",
     "output_type": "stream",
     "text": [
      "tensor(2.)\n",
      "tensor(12.)\n"
     ]
    }
   ],
   "source": [
    "x = torch.tensor(1.0, requires_grad=True)\n",
    "z = torch.tensor(2.0, requires_grad=True)\n",
    "y = x**2 + z**3\n",
    "y.backward()\n",
    "print(x.grad)\n",
    "print(z.grad)"
   ]
  },
  {
   "cell_type": "code",
   "execution_count": null,
   "metadata": {},
   "outputs": [],
   "source": []
  }
 ],
 "metadata": {
  "kernelspec": {
   "display_name": "Python 3",
   "language": "python",
   "name": "python3"
  },
  "language_info": {
   "codemirror_mode": {
    "name": "ipython",
    "version": 3
   },
   "file_extension": ".py",
   "mimetype": "text/x-python",
   "name": "python",
   "nbconvert_exporter": "python",
   "pygments_lexer": "ipython3",
   "version": "3.6.10"
  }
 },
 "nbformat": 4,
 "nbformat_minor": 4
}
